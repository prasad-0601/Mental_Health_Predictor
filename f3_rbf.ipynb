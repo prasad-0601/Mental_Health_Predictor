{
 "cells": [
  {
   "cell_type": "code",
   "execution_count": 5,
   "metadata": {},
   "outputs": [
    {
     "name": "stdout",
     "output_type": "stream",
     "text": [
      "Please provide your information:\n",
      "\n",
      "Prediction:\n",
      "Depression Level: Severe depression symptoms\n"
     ]
    }
   ],
   "source": [
    "import pandas as pd\n",
    "from sklearn.svm import SVC\n",
    "from sklearn.preprocessing import StandardScaler\n",
    "from sklearn.pipeline import make_pipeline\n",
    "\n",
    "# Load the dataset\n",
    "dataset = pd.read_csv(\"depression_dataset.csv\")\n",
    "\n",
    "# Assuming 'Interpretation' is the target variable\n",
    "X = dataset.drop(columns=['Total Score', 'Interpretation'])\n",
    "y = dataset['Interpretation']\n",
    "\n",
    "# Convert categorical labels to numerical labels\n",
    "class_mapping = {\n",
    "    'Minimal depression symptoms': 0,\n",
    "    'Mild depression symptoms': 1,\n",
    "    'Moderate depression symptoms': 2,\n",
    "    'Moderately severe depression symptoms': 3,\n",
    "    'Severe depression symptoms': 4\n",
    "}\n",
    "y = y.map(class_mapping)\n",
    "\n",
    "# Create an SVM model with RBF kernel\n",
    "model_rbf = make_pipeline(StandardScaler(), SVC(kernel='rbf', C=1, gamma='scale'))\n",
    "\n",
    "# Train the model\n",
    "model_rbf.fit(X, y)\n",
    "\n",
    "# User input for depression symptoms\n",
    "print(\"Please provide your information:\")\n",
    "symptoms = {}\n",
    "for question in X.columns:\n",
    "    response = input(f\"{question} ({', '.join(map(str, range(4)))}): \")\n",
    "    symptoms[question] = int(response)\n",
    "\n",
    "# Create a DataFrame with user input\n",
    "user_data = pd.DataFrame([symptoms])\n",
    "\n",
    "# Use the trained model to predict depression level\n",
    "predicted_label = model_rbf.predict(user_data)\n",
    "\n",
    "# Map the numerical label back to the original interpretation\n",
    "reverse_mapping = {v: k for k, v in class_mapping.items()}\n",
    "predicted_label_original = reverse_mapping[predicted_label[0]]\n",
    "\n",
    "# Display the prediction\n",
    "print(\"\\nPrediction:\")\n",
    "print(f\"Depression Level: {predicted_label_original}\")\n"
   ]
  },
  {
   "cell_type": "code",
   "execution_count": null,
   "metadata": {},
   "outputs": [],
   "source": []
  }
 ],
 "metadata": {
  "kernelspec": {
   "display_name": "Python 3",
   "language": "python",
   "name": "python3"
  },
  "language_info": {
   "codemirror_mode": {
    "name": "ipython",
    "version": 3
   },
   "file_extension": ".py",
   "mimetype": "text/x-python",
   "name": "python",
   "nbconvert_exporter": "python",
   "pygments_lexer": "ipython3",
   "version": "3.12.0"
  }
 },
 "nbformat": 4,
 "nbformat_minor": 2
}
