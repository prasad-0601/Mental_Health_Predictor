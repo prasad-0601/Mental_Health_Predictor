{
 "cells": [
  {
   "cell_type": "code",
   "execution_count": 1,
   "metadata": {},
   "outputs": [
    {
     "name": "stdout",
     "output_type": "stream",
     "text": [
      "Accuracy: 0.995\n",
      "Classification Report:\n",
      "               precision    recall  f1-score   support\n",
      "\n",
      "           0       1.00      0.00      0.00         1\n",
      "           1       0.96      1.00      0.98        27\n",
      "           2       1.00      1.00      1.00        95\n",
      "           3       1.00      1.00      1.00        69\n",
      "           4       1.00      1.00      1.00         8\n",
      "\n",
      "    accuracy                           0.99       200\n",
      "   macro avg       0.99      0.80      0.80       200\n",
      "weighted avg       1.00      0.99      0.99       200\n",
      "\n"
     ]
    }
   ],
   "source": [
    "# Import necessary libraries\n",
    "import pandas as pd\n",
    "from sklearn.model_selection import train_test_split\n",
    "from sklearn.svm import SVC\n",
    "from sklearn.metrics import accuracy_score, classification_report\n",
    "from sklearn.preprocessing import StandardScaler\n",
    "from sklearn.pipeline import make_pipeline\n",
    "import warnings\n",
    "\n",
    "# Load the dataset\n",
    "dataset = pd.read_csv(\"depression_dataset.csv\")\n",
    "\n",
    "# Assuming 'Interpretation' is the target variable\n",
    "X = dataset.drop(columns=['Total Score', 'Interpretation'])\n",
    "y = dataset['Interpretation']\n",
    "\n",
    "# Convert categorical labels to numerical labels\n",
    "class_mapping = {\n",
    "    'Minimal depression symptoms': 0,\n",
    "    'Mild depression symptoms': 1,\n",
    "    'Moderate depression symptoms': 2,\n",
    "    'Moderately severe depression symptoms': 3,\n",
    "    'Severe depression symptoms': 4\n",
    "}\n",
    "y = y.map(class_mapping)\n",
    "\n",
    "# Split the dataset into training and testing sets\n",
    "X_train, X_test, y_train, y_test = train_test_split(X, y, test_size=0.2, random_state=42)\n",
    "\n",
    "# Create an SVM model\n",
    "model = make_pipeline(StandardScaler(), SVC(kernel='linear', C=1))\n",
    "\n",
    "# Train the model\n",
    "model.fit(X_train, y_train)\n",
    "\n",
    "# Make predictions on the test set\n",
    "y_pred = model.predict(X_test)\n",
    "\n",
    "# Evaluate the model\n",
    "with warnings.catch_warnings():\n",
    "    warnings.simplefilter(\"ignore\")\n",
    "    accuracy = accuracy_score(y_test, y_pred)\n",
    "    classification_report_result = classification_report(y_test, y_pred, zero_division=1)\n",
    "\n",
    "# Print the results\n",
    "print(f\"Accuracy: {accuracy}\")\n",
    "print(\"Classification Report:\\n\", classification_report_result)\n"
   ]
  },
  {
   "cell_type": "code",
   "execution_count": null,
   "metadata": {},
   "outputs": [],
   "source": []
  }
 ],
 "metadata": {
  "kernelspec": {
   "display_name": "Python 3",
   "language": "python",
   "name": "python3"
  },
  "language_info": {
   "codemirror_mode": {
    "name": "ipython",
    "version": 3
   },
   "file_extension": ".py",
   "mimetype": "text/x-python",
   "name": "python",
   "nbconvert_exporter": "python",
   "pygments_lexer": "ipython3",
   "version": "3.12.0"
  }
 },
 "nbformat": 4,
 "nbformat_minor": 2
}
